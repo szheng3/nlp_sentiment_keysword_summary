{
 "cells": [
  {
   "cell_type": "code",
   "execution_count": 1,
   "id": "a2922ab3-a5a8-4d05-a858-0c78fc13ab0b",
   "metadata": {},
   "outputs": [
    {
     "name": "stderr",
     "output_type": "stream",
     "text": [
      "/opt/conda/lib/python3.9/site-packages/requests/__init__.py:102: RequestsDependencyWarning: urllib3 (1.26.9) or chardet (5.0.0)/charset_normalizer (2.0.12) doesn't match a supported version!\n",
      "  warnings.warn(\"urllib3 ({}) or chardet ({})/charset_normalizer ({}) doesn't match a supported \"\n",
      "[nltk_data] Downloading package stopwords to\n",
      "[nltk_data]     /hpc/home/sz243/nltk_data...\n",
      "[nltk_data]   Package stopwords is already up-to-date!\n",
      "[nltk_data] Downloading package punkt to /hpc/home/sz243/nltk_data...\n",
      "[nltk_data]   Package punkt is already up-to-date!\n",
      "[nltk_data] Downloading package averaged_perceptron_tagger to\n",
      "[nltk_data]     /hpc/home/sz243/nltk_data...\n",
      "[nltk_data]   Package averaged_perceptron_tagger is already up-to-\n",
      "[nltk_data]       date!\n"
     ]
    },
    {
     "data": {
      "text/plain": [
       "True"
      ]
     },
     "execution_count": 1,
     "metadata": {},
     "output_type": "execute_result"
    }
   ],
   "source": [
    "import json\n",
    "import nltk\n",
    "import torch\n",
    "import numpy as np\n",
    "from textblob import TextBlob\n",
    "from nltk.corpus import stopwords\n",
    "from sentence_transformers import SentenceTransformer\n",
    "from sklearn.metrics.pairwise import cosine_similarity\n",
    "from sklearn.cluster import KMeans\n",
    "\n",
    "\n",
    "nltk.download('stopwords')\n",
    "nltk.download('punkt')\n",
    "nltk.download('averaged_perceptron_tagger')\n"
   ]
  },
  {
   "cell_type": "code",
   "execution_count": 2,
   "id": "9bf06534-229d-4c86-9939-a139110d7af9",
   "metadata": {},
   "outputs": [],
   "source": [
    "def load_data(file_path, target_business_id):\n",
    "    with open(file_path, \"r\") as f:\n",
    "        lines = f.readlines()\n",
    "\n",
    "    reviews = []\n",
    "    for line in lines:\n",
    "        review = json.loads(line)\n",
    "        if review[\"business_id\"] == target_business_id:\n",
    "            reviews.append(review[\"text\"])\n",
    "\n",
    "    return reviews\n",
    "\n",
    "# Remove stopwords from the text\n",
    "def remove_stopwords(text):\n",
    "    stop_words = set(stopwords.words('english'))\n",
    "    words = nltk.word_tokenize(text)\n",
    "    filtered_words = [word for word in words if word.lower() not in stop_words]\n",
    "    return ' '.join(filtered_words)\n",
    "\n",
    "# Extract unique words from the text\n",
    "def extract_unique_words(text):\n",
    "    words = set(text.split())\n",
    "    return list(words)\n",
    "\n",
    "# Filter adjectives from the list of unique words\n",
    "def filter_adjectives(words):\n",
    "    adjectives = []\n",
    "    for word in words:\n",
    "        blob = TextBlob(word)\n",
    "        if blob.tags and blob.tags[0][1].startswith('JJ'):\n",
    "            adjectives.append(word)\n",
    "    return adjectives\n",
    "\n",
    "# Count the number of reviews containing the specified words\n",
    "def count_reviews_containing_words(reviews, words):\n",
    "    counts = {word: 0 for word in words}\n",
    "    model = SentenceTransformer('paraphrase-mpnet-base-v2', device='cuda')\n",
    "\n",
    "    for text in reviews:\n",
    "        review_embedding = model.encode([text])\n",
    "        max_similarity = 0\n",
    "        max_word = None\n",
    "\n",
    "        for word in words:\n",
    "            word_embedding = model.encode([word])\n",
    "            similarity = cosine_similarity(review_embedding, word_embedding)\n",
    "\n",
    "            if similarity > max_similarity:\n",
    "                max_similarity = similarity\n",
    "                max_word = word\n",
    "\n",
    "        if max_word:\n",
    "            counts[max_word] += 1\n",
    "\n",
    "    return counts\n",
    "\n",
    "def extract_keywords_bert(words, model_name, n_clusters=10):\n",
    "    model = SentenceTransformer(model_name)\n",
    "    word_embeddings = model.encode(words)\n",
    "\n",
    "    clustering_model = KMeans(n_clusters=n_clusters)\n",
    "    clustering_model.fit(word_embeddings)\n",
    "\n",
    "    cluster_centers = clustering_model.cluster_centers_\n",
    "\n",
    "    # Find the closest word in each cluster\n",
    "    keywords = []\n",
    "    for cluster_center in cluster_centers:\n",
    "        distances = np.linalg.norm(word_embeddings - cluster_center, axis=1)\n",
    "        closest_word_index = np.argmin(distances)\n",
    "        keywords.append(words[closest_word_index])\n",
    "\n",
    "    return keywords"
   ]
  },
  {
   "cell_type": "code",
   "execution_count": 3,
   "id": "f7dec2cd-a8d7-4f91-ac6f-4b6d1fd91459",
   "metadata": {},
   "outputs": [
    {
     "name": "stdout",
     "output_type": "stream",
     "text": [
      "huggingface/tokenizers: The current process just got forked, after parallelism has already been used. Disabling parallelism to avoid deadlocks...\n",
      "To disable this warning, you can either:\n",
      "\t- Avoid using `tokenizers` before the fork if possible\n",
      "\t- Explicitly set the environment variable TOKENIZERS_PARALLELISM=(true | false)\n",
      "Top 5 Adjectives by Review Count (using BERT):\n",
      "great: 84 reviews\n",
      "unacceptable: 65 reviews\n",
      "large: 8 reviews\n",
      "15-30: 7 reviews\n",
      "new: 6 reviews\n"
     ]
    }
   ],
   "source": [
    "file_path = \"yelp_academic_dataset_review.json\"  # Replace with your Yelp dataset path\n",
    "target_business_id = \"XQfwVwDr-v0ZS3_CbbE5Xw\"  # The business_id you want to extract reviews for\n",
    "data = load_data(file_path, target_business_id)\n",
    "combined_data = ' '.join(data)\n",
    "filtered_data = remove_stopwords(combined_data)\n",
    "unique_words = extract_unique_words(filtered_data)\n",
    "adjectives = filter_adjectives(unique_words)\n",
    "model_name = 'distilbert-base-nli-mean-tokens'\n",
    "keywords = extract_keywords_bert(adjectives, model_name)\n",
    "review_counts = count_reviews_containing_words(data, keywords)\n",
    "sorted_adjectives = sorted(review_counts.items(), key=lambda x: x[1], reverse=True)[:5]\n",
    "\n",
    "print(\"Top 5 Adjectives by Review Count (using BERT):\")\n",
    "for word, count in sorted_adjectives:\n",
    "    print(f\"{word}: {count} reviews\")"
   ]
  }
 ],
 "metadata": {
  "kernelspec": {
   "display_name": "Python 3 (ipykernel)",
   "language": "python",
   "name": "python3"
  },
  "language_info": {
   "codemirror_mode": {
    "name": "ipython",
    "version": 3
   },
   "file_extension": ".py",
   "mimetype": "text/x-python",
   "name": "python",
   "nbconvert_exporter": "python",
   "pygments_lexer": "ipython3",
   "version": "3.9.13"
  }
 },
 "nbformat": 4,
 "nbformat_minor": 5
}
